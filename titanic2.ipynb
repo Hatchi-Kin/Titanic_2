{
 "cells": [
  {
   "cell_type": "code",
   "execution_count": 1,
   "metadata": {},
   "outputs": [
    {
     "data": {
      "text/html": [
       "<div>\n",
       "<style scoped>\n",
       "    .dataframe tbody tr th:only-of-type {\n",
       "        vertical-align: middle;\n",
       "    }\n",
       "\n",
       "    .dataframe tbody tr th {\n",
       "        vertical-align: top;\n",
       "    }\n",
       "\n",
       "    .dataframe thead th {\n",
       "        text-align: right;\n",
       "    }\n",
       "</style>\n",
       "<table border=\"1\" class=\"dataframe\">\n",
       "  <thead>\n",
       "    <tr style=\"text-align: right;\">\n",
       "      <th></th>\n",
       "      <th>PassengerId</th>\n",
       "      <th>Survived</th>\n",
       "      <th>Pclass</th>\n",
       "      <th>Name</th>\n",
       "      <th>Sex</th>\n",
       "      <th>Age</th>\n",
       "      <th>SibSp</th>\n",
       "      <th>Parch</th>\n",
       "      <th>Ticket</th>\n",
       "      <th>Fare</th>\n",
       "      <th>Cabin</th>\n",
       "      <th>Embarked</th>\n",
       "    </tr>\n",
       "  </thead>\n",
       "  <tbody>\n",
       "    <tr>\n",
       "      <th>542</th>\n",
       "      <td>543</td>\n",
       "      <td>0</td>\n",
       "      <td>3</td>\n",
       "      <td>Andersson, Miss. Sigrid Elisabeth</td>\n",
       "      <td>female</td>\n",
       "      <td>11.0</td>\n",
       "      <td>4</td>\n",
       "      <td>2</td>\n",
       "      <td>347082</td>\n",
       "      <td>31.2750</td>\n",
       "      <td>NaN</td>\n",
       "      <td>S</td>\n",
       "    </tr>\n",
       "    <tr>\n",
       "      <th>105</th>\n",
       "      <td>106</td>\n",
       "      <td>0</td>\n",
       "      <td>3</td>\n",
       "      <td>Mionoff, Mr. Stoytcho</td>\n",
       "      <td>male</td>\n",
       "      <td>28.0</td>\n",
       "      <td>0</td>\n",
       "      <td>0</td>\n",
       "      <td>349207</td>\n",
       "      <td>7.8958</td>\n",
       "      <td>NaN</td>\n",
       "      <td>S</td>\n",
       "    </tr>\n",
       "    <tr>\n",
       "      <th>615</th>\n",
       "      <td>616</td>\n",
       "      <td>1</td>\n",
       "      <td>2</td>\n",
       "      <td>Herman, Miss. Alice</td>\n",
       "      <td>female</td>\n",
       "      <td>24.0</td>\n",
       "      <td>1</td>\n",
       "      <td>2</td>\n",
       "      <td>220845</td>\n",
       "      <td>65.0000</td>\n",
       "      <td>NaN</td>\n",
       "      <td>S</td>\n",
       "    </tr>\n",
       "  </tbody>\n",
       "</table>\n",
       "</div>"
      ],
      "text/plain": [
       "     PassengerId  Survived  Pclass                               Name     Sex  \\\n",
       "542          543         0       3  Andersson, Miss. Sigrid Elisabeth  female   \n",
       "105          106         0       3              Mionoff, Mr. Stoytcho    male   \n",
       "615          616         1       2                Herman, Miss. Alice  female   \n",
       "\n",
       "      Age  SibSp  Parch  Ticket     Fare Cabin Embarked  \n",
       "542  11.0      4      2  347082  31.2750   NaN        S  \n",
       "105  28.0      0      0  349207   7.8958   NaN        S  \n",
       "615  24.0      1      2  220845  65.0000   NaN        S  "
      ]
     },
     "execution_count": 1,
     "metadata": {},
     "output_type": "execute_result"
    }
   ],
   "source": [
    "# https://www.kaggle.com/competitions/titanic\n",
    "\n",
    "import numpy as np\n",
    "import pandas as pd\n",
    "\n",
    "df = pd.read_csv(\"train.csv\")\n",
    "X_test = pd.read_csv('test.csv')\n",
    "\n",
    "df_copy = df.copy()\n",
    "df.sample(3)"
   ]
  },
  {
   "cell_type": "code",
   "execution_count": 2,
   "metadata": {},
   "outputs": [
    {
     "data": {
      "text/html": [
       "<div>\n",
       "<style scoped>\n",
       "    .dataframe tbody tr th:only-of-type {\n",
       "        vertical-align: middle;\n",
       "    }\n",
       "\n",
       "    .dataframe tbody tr th {\n",
       "        vertical-align: top;\n",
       "    }\n",
       "\n",
       "    .dataframe thead th {\n",
       "        text-align: right;\n",
       "    }\n",
       "</style>\n",
       "<table border=\"1\" class=\"dataframe\">\n",
       "  <thead>\n",
       "    <tr style=\"text-align: right;\">\n",
       "      <th></th>\n",
       "      <th>PassengerId</th>\n",
       "      <th>Survived</th>\n",
       "      <th>Pclass</th>\n",
       "      <th>Name</th>\n",
       "      <th>Sex</th>\n",
       "      <th>Age</th>\n",
       "      <th>SibSp</th>\n",
       "      <th>Parch</th>\n",
       "      <th>Ticket</th>\n",
       "      <th>Fare</th>\n",
       "      <th>Cabin</th>\n",
       "      <th>Embarked</th>\n",
       "    </tr>\n",
       "  </thead>\n",
       "  <tbody>\n",
       "  </tbody>\n",
       "</table>\n",
       "</div>"
      ],
      "text/plain": [
       "Empty DataFrame\n",
       "Columns: [PassengerId, Survived, Pclass, Name, Sex, Age, SibSp, Parch, Ticket, Fare, Cabin, Embarked]\n",
       "Index: []"
      ]
     },
     "execution_count": 2,
     "metadata": {},
     "output_type": "execute_result"
    }
   ],
   "source": [
    "if 'PassengerId' in df.columns:\n",
    "    df.drop('PassengerId', axis=1)\n",
    "\n",
    "# Selectionne les lignes dupliquées\n",
    "df[df.duplicated(keep=False)]"
   ]
  },
  {
   "cell_type": "code",
   "execution_count": 3,
   "metadata": {},
   "outputs": [
    {
     "name": "stdout",
     "output_type": "stream",
     "text": [
      "#            dtype        isna       % isna\n",
      "-------------------------------------------------\n",
      "PassengerId  int64        0          0.000000%\n",
      "Survived     int64        0          0.000000%\n",
      "Pclass       int64        0          0.000000%\n",
      "Name         object       0          0.000000%\n",
      "Sex          object       0          0.000000%\n",
      "Age          float64      177        19.865320%\n",
      "SibSp        int64        0          0.000000%\n",
      "Parch        int64        0          0.000000%\n",
      "Ticket       object       0          0.000000%\n",
      "Fare         float64      0          0.000000%\n",
      "Cabin        object       687        77.104377%\n",
      "Embarked     object       2          0.224467%\n"
     ]
    }
   ],
   "source": [
    "def pretty_isna(df):\n",
    "    print(\"{:<12} {:<12} {:<10} {:<6}\".format(\"#\", \"dtype\", \"isna\", \"% isna\"))\n",
    "    print('-------------------------------------------------')\n",
    "    for column in df.columns:\n",
    "        missing_values = df[column].isna().sum()\n",
    "        percentage_missing = (missing_values / len(df[column])) * 100\n",
    "        coltype = str(df[column].dtype)\n",
    "        print(\"{:<12} {:<12} {:<10} {:<6f}%\".format(column, coltype, missing_values, percentage_missing))\n",
    "\n",
    "pretty_isna(df)"
   ]
  },
  {
   "cell_type": "code",
   "execution_count": 4,
   "metadata": {},
   "outputs": [
    {
     "name": "stdout",
     "output_type": "stream",
     "text": [
      "#            dtype        isna       % isna\n",
      "-------------------------------------------------\n",
      "PassengerId  int64        0          0.000000%\n",
      "Pclass       int64        0          0.000000%\n",
      "Name         object       0          0.000000%\n",
      "Sex          object       0          0.000000%\n",
      "Age          float64      86         20.574163%\n",
      "SibSp        int64        0          0.000000%\n",
      "Parch        int64        0          0.000000%\n",
      "Ticket       object       0          0.000000%\n",
      "Fare         float64      1          0.239234%\n",
      "Cabin        object       327        78.229665%\n",
      "Embarked     object       0          0.000000%\n"
     ]
    }
   ],
   "source": [
    "pretty_isna(X_test)"
   ]
  },
  {
   "cell_type": "code",
   "execution_count": 5,
   "metadata": {},
   "outputs": [],
   "source": [
    "# df['Cabin'] contient 77+% de valeurs manquantes\n",
    "if 'Cabin' in df.columns:\n",
    "    df = df.drop('Cabin', axis=1)\n",
    "\n",
    "\n",
    "# faire pareil pour X_test\n",
    "if 'Cabin' in X_test.columns:\n",
    "    X_test = X_test.drop('Cabin', axis=1)"
   ]
  },
  {
   "cell_type": "code",
   "execution_count": 6,
   "metadata": {},
   "outputs": [
    {
     "name": "stdout",
     "output_type": "stream",
     "text": [
      "#            dtype        isna       % isna\n",
      "-------------------------------------------------\n",
      "PassengerId  int64        0          0.000000%\n",
      "Survived     int64        0          0.000000%\n",
      "Pclass       int64        0          0.000000%\n",
      "Sex          object       0          0.000000%\n",
      "Age          float64      177        19.865320%\n",
      "SibSp        int64        0          0.000000%\n",
      "Parch        int64        0          0.000000%\n",
      "Fare         float64      0          0.000000%\n",
      "Embarked     object       2          0.224467%\n"
     ]
    }
   ],
   "source": [
    "# df['Name'] ne va pas être utilile lors de l'apprentissage du modele ml.\n",
    "if 'Name' in df.columns:\n",
    "    df = df.drop('Name', axis=1)\n",
    "\n",
    "# idem pour df['Ticket']\n",
    "if 'Ticket' in df.columns:\n",
    "    df = df.drop('Ticket', axis=1)\n",
    "\n",
    "\n",
    "# faire pareil pour y_test\n",
    "if 'Name' in X_test.columns:\n",
    "    X_test = X_test.drop('Name', axis=1)\n",
    "if 'Ticket' in X_test.columns:\n",
    "    X_test = X_test.drop('Ticket', axis=1)\n",
    "\n",
    "pretty_isna(df)"
   ]
  },
  {
   "cell_type": "code",
   "execution_count": 7,
   "metadata": {},
   "outputs": [
    {
     "data": {
      "text/html": [
       "<div>\n",
       "<style scoped>\n",
       "    .dataframe tbody tr th:only-of-type {\n",
       "        vertical-align: middle;\n",
       "    }\n",
       "\n",
       "    .dataframe tbody tr th {\n",
       "        vertical-align: top;\n",
       "    }\n",
       "\n",
       "    .dataframe thead th {\n",
       "        text-align: right;\n",
       "    }\n",
       "</style>\n",
       "<table border=\"1\" class=\"dataframe\">\n",
       "  <thead>\n",
       "    <tr style=\"text-align: right;\">\n",
       "      <th></th>\n",
       "      <th>PassengerId</th>\n",
       "      <th>Survived</th>\n",
       "      <th>Pclass</th>\n",
       "      <th>Name</th>\n",
       "      <th>Sex</th>\n",
       "      <th>Age</th>\n",
       "      <th>SibSp</th>\n",
       "      <th>Parch</th>\n",
       "      <th>Ticket</th>\n",
       "      <th>Fare</th>\n",
       "      <th>Cabin</th>\n",
       "      <th>Embarked</th>\n",
       "    </tr>\n",
       "  </thead>\n",
       "  <tbody>\n",
       "    <tr>\n",
       "      <th>61</th>\n",
       "      <td>62</td>\n",
       "      <td>1</td>\n",
       "      <td>1</td>\n",
       "      <td>Icard, Miss. Amelie</td>\n",
       "      <td>female</td>\n",
       "      <td>38.0</td>\n",
       "      <td>0</td>\n",
       "      <td>0</td>\n",
       "      <td>113572</td>\n",
       "      <td>80.0</td>\n",
       "      <td>B28</td>\n",
       "      <td>NaN</td>\n",
       "    </tr>\n",
       "    <tr>\n",
       "      <th>829</th>\n",
       "      <td>830</td>\n",
       "      <td>1</td>\n",
       "      <td>1</td>\n",
       "      <td>Stone, Mrs. George Nelson (Martha Evelyn)</td>\n",
       "      <td>female</td>\n",
       "      <td>62.0</td>\n",
       "      <td>0</td>\n",
       "      <td>0</td>\n",
       "      <td>113572</td>\n",
       "      <td>80.0</td>\n",
       "      <td>B28</td>\n",
       "      <td>NaN</td>\n",
       "    </tr>\n",
       "  </tbody>\n",
       "</table>\n",
       "</div>"
      ],
      "text/plain": [
       "     PassengerId  Survived  Pclass                                       Name  \\\n",
       "61            62         1       1                        Icard, Miss. Amelie   \n",
       "829          830         1       1  Stone, Mrs. George Nelson (Martha Evelyn)   \n",
       "\n",
       "        Sex   Age  SibSp  Parch  Ticket  Fare Cabin Embarked  \n",
       "61   female  38.0      0      0  113572  80.0   B28      NaN  \n",
       "829  female  62.0      0      0  113572  80.0   B28      NaN  "
      ]
     },
     "execution_count": 7,
     "metadata": {},
     "output_type": "execute_result"
    }
   ],
   "source": [
    "df_copy[df_copy['Embarked'].isna()]"
   ]
  },
  {
   "cell_type": "code",
   "execution_count": 8,
   "metadata": {},
   "outputs": [
    {
     "data": {
      "text/plain": [
       "0"
      ]
     },
     "execution_count": 8,
     "metadata": {},
     "output_type": "execute_result"
    }
   ],
   "source": [
    "# Miss Amelie Icard sounds french so she probably embarked at Cherbourg\n",
    "# Martha, Evelyn and Stone sound more english than Irish (Southamphton is in England and Queenstown in Ireland)\n",
    "\n",
    "df.loc[df['PassengerId'] == 62, 'Embarked'] = 'C'\n",
    "df.loc[df['PassengerId'] == 830, 'Embarked'] = 'S'\n",
    "\n",
    "df.Embarked.isna().sum()"
   ]
  },
  {
   "cell_type": "code",
   "execution_count": 9,
   "metadata": {},
   "outputs": [
    {
     "name": "stdout",
     "output_type": "stream",
     "text": [
      "#            dtype        isna       % isna\n",
      "-------------------------------------------------\n",
      "PassengerId  int64        0          0.000000%\n",
      "Pclass       int64        0          0.000000%\n",
      "Sex          object       0          0.000000%\n",
      "Age          float64      86         20.574163%\n",
      "SibSp        int64        0          0.000000%\n",
      "Parch        int64        0          0.000000%\n",
      "Fare         float64      1          0.239234%\n",
      "Embarked     object       0          0.000000%\n"
     ]
    }
   ],
   "source": [
    "pretty_isna(X_test)"
   ]
  },
  {
   "cell_type": "code",
   "execution_count": 10,
   "metadata": {},
   "outputs": [
    {
     "data": {
      "text/html": [
       "<div>\n",
       "<style scoped>\n",
       "    .dataframe tbody tr th:only-of-type {\n",
       "        vertical-align: middle;\n",
       "    }\n",
       "\n",
       "    .dataframe tbody tr th {\n",
       "        vertical-align: top;\n",
       "    }\n",
       "\n",
       "    .dataframe thead th {\n",
       "        text-align: right;\n",
       "    }\n",
       "</style>\n",
       "<table border=\"1\" class=\"dataframe\">\n",
       "  <thead>\n",
       "    <tr style=\"text-align: right;\">\n",
       "      <th></th>\n",
       "      <th>PassengerId</th>\n",
       "      <th>Pclass</th>\n",
       "      <th>Sex</th>\n",
       "      <th>Age</th>\n",
       "      <th>SibSp</th>\n",
       "      <th>Parch</th>\n",
       "      <th>Fare</th>\n",
       "      <th>Embarked</th>\n",
       "    </tr>\n",
       "  </thead>\n",
       "  <tbody>\n",
       "    <tr>\n",
       "      <th>152</th>\n",
       "      <td>1044</td>\n",
       "      <td>3</td>\n",
       "      <td>male</td>\n",
       "      <td>60.5</td>\n",
       "      <td>0</td>\n",
       "      <td>0</td>\n",
       "      <td>NaN</td>\n",
       "      <td>S</td>\n",
       "    </tr>\n",
       "  </tbody>\n",
       "</table>\n",
       "</div>"
      ],
      "text/plain": [
       "     PassengerId  Pclass   Sex   Age  SibSp  Parch  Fare Embarked\n",
       "152         1044       3  male  60.5      0      0   NaN        S"
      ]
     },
     "execution_count": 10,
     "metadata": {},
     "output_type": "execute_result"
    }
   ],
   "source": [
    "X_test[X_test['Fare'].isna()]"
   ]
  },
  {
   "cell_type": "code",
   "execution_count": 11,
   "metadata": {},
   "outputs": [
    {
     "name": "stdout",
     "output_type": "stream",
     "text": [
      "#            dtype        isna       % isna\n",
      "-------------------------------------------------\n",
      "PassengerId  int64        0          0.000000%\n",
      "Pclass       int64        0          0.000000%\n",
      "Sex          object       0          0.000000%\n",
      "Age          float64      86         20.574163%\n",
      "SibSp        int64        0          0.000000%\n",
      "Parch        int64        0          0.000000%\n",
      "Fare         float64      0          0.000000%\n",
      "Embarked     object       0          0.000000%\n"
     ]
    }
   ],
   "source": [
    "# Calculate the mode of 'Fare' for rows where 'Pclass' is 3\n",
    "fare_mode = X_test.loc[X_test['Pclass'] == 3, 'Fare'].mode()[0]\n",
    "\n",
    "# Fill missing values in 'Fare' with the mode\n",
    "X_test['Fare'].fillna(fare_mode, inplace=True)\n",
    "\n",
    "pretty_isna(X_test)"
   ]
  },
  {
   "cell_type": "code",
   "execution_count": 12,
   "metadata": {},
   "outputs": [
    {
     "name": "stdout",
     "output_type": "stream",
     "text": [
      "#            dtype        isna       % isna\n",
      "-------------------------------------------------\n",
      "PassengerId  int64        0          0.000000%\n",
      "Survived     int64        0          0.000000%\n",
      "Pclass       int64        0          0.000000%\n",
      "Sex          object       0          0.000000%\n",
      "Age          float64      177        19.865320%\n",
      "SibSp        int64        0          0.000000%\n",
      "Parch        int64        0          0.000000%\n",
      "Fare         float64      0          0.000000%\n",
      "Embarked     object       0          0.000000%\n"
     ]
    }
   ],
   "source": [
    "pretty_isna(df)"
   ]
  },
  {
   "cell_type": "code",
   "execution_count": 13,
   "metadata": {},
   "outputs": [
    {
     "name": "stdout",
     "output_type": "stream",
     "text": [
      "Les valeurs uniques de la colonne 'Sex': ['male' 'female']\n",
      "Les valeurs uniques de la colonne 'Sex' après encodage: [1 0]\n"
     ]
    }
   ],
   "source": [
    "from sklearn.preprocessing import LabelEncoder\n",
    "\n",
    "print(f\"Les valeurs uniques de la colonne 'Sex': {df.Sex.unique()}\")\n",
    "\n",
    "le = LabelEncoder()\n",
    "df['Sex'] = le.fit_transform(df['Sex'])\n",
    "\n",
    "# faire pareil pour y_test\n",
    "X_test['Sex'] = le.fit_transform(X_test['Sex'])\n",
    "\n",
    "print(f\"Les valeurs uniques de la colonne 'Sex' après encodage: {df.Sex.unique()}\")"
   ]
  },
  {
   "cell_type": "code",
   "execution_count": 14,
   "metadata": {},
   "outputs": [
    {
     "name": "stdout",
     "output_type": "stream",
     "text": [
      "Les valeurs uniques de la colonne 'Embarked': ['S' 'C' 'Q']\n",
      "Les valeurs uniques de la colonne 'Embarked' après encodage: [2 0 1]\n"
     ]
    }
   ],
   "source": [
    "print(f\"Les valeurs uniques de la colonne 'Embarked': {df.Embarked.unique()}\")\n",
    "\n",
    "df['Embarked'] = le.fit_transform(df['Embarked'])\n",
    "\n",
    "# faire pareil pour X_test\n",
    "X_test['Embarked'] = le.fit_transform(X_test['Embarked'])\n",
    "\n",
    "print(f\"Les valeurs uniques de la colonne 'Embarked' après encodage: {df.Embarked.unique()}\")"
   ]
  },
  {
   "cell_type": "code",
   "execution_count": 15,
   "metadata": {},
   "outputs": [
    {
     "data": {
      "text/html": [
       "<div>\n",
       "<style scoped>\n",
       "    .dataframe tbody tr th:only-of-type {\n",
       "        vertical-align: middle;\n",
       "    }\n",
       "\n",
       "    .dataframe tbody tr th {\n",
       "        vertical-align: top;\n",
       "    }\n",
       "\n",
       "    .dataframe thead th {\n",
       "        text-align: right;\n",
       "    }\n",
       "</style>\n",
       "<table border=\"1\" class=\"dataframe\">\n",
       "  <thead>\n",
       "    <tr style=\"text-align: right;\">\n",
       "      <th></th>\n",
       "      <th>PassengerId</th>\n",
       "      <th>Survived</th>\n",
       "      <th>Pclass</th>\n",
       "      <th>Sex</th>\n",
       "      <th>Age</th>\n",
       "      <th>SibSp</th>\n",
       "      <th>Parch</th>\n",
       "      <th>Fare</th>\n",
       "      <th>Embarked</th>\n",
       "    </tr>\n",
       "  </thead>\n",
       "  <tbody>\n",
       "    <tr>\n",
       "      <th>438</th>\n",
       "      <td>439</td>\n",
       "      <td>0</td>\n",
       "      <td>1</td>\n",
       "      <td>1</td>\n",
       "      <td>64.0</td>\n",
       "      <td>1</td>\n",
       "      <td>4</td>\n",
       "      <td>263.0000</td>\n",
       "      <td>2</td>\n",
       "    </tr>\n",
       "    <tr>\n",
       "      <th>341</th>\n",
       "      <td>342</td>\n",
       "      <td>1</td>\n",
       "      <td>1</td>\n",
       "      <td>0</td>\n",
       "      <td>24.0</td>\n",
       "      <td>3</td>\n",
       "      <td>2</td>\n",
       "      <td>263.0000</td>\n",
       "      <td>2</td>\n",
       "    </tr>\n",
       "    <tr>\n",
       "      <th>737</th>\n",
       "      <td>738</td>\n",
       "      <td>1</td>\n",
       "      <td>1</td>\n",
       "      <td>1</td>\n",
       "      <td>35.0</td>\n",
       "      <td>0</td>\n",
       "      <td>0</td>\n",
       "      <td>512.3292</td>\n",
       "      <td>0</td>\n",
       "    </tr>\n",
       "    <tr>\n",
       "      <th>258</th>\n",
       "      <td>259</td>\n",
       "      <td>1</td>\n",
       "      <td>1</td>\n",
       "      <td>0</td>\n",
       "      <td>35.0</td>\n",
       "      <td>0</td>\n",
       "      <td>0</td>\n",
       "      <td>512.3292</td>\n",
       "      <td>0</td>\n",
       "    </tr>\n",
       "    <tr>\n",
       "      <th>679</th>\n",
       "      <td>680</td>\n",
       "      <td>1</td>\n",
       "      <td>1</td>\n",
       "      <td>1</td>\n",
       "      <td>36.0</td>\n",
       "      <td>0</td>\n",
       "      <td>1</td>\n",
       "      <td>512.3292</td>\n",
       "      <td>0</td>\n",
       "    </tr>\n",
       "  </tbody>\n",
       "</table>\n",
       "</div>"
      ],
      "text/plain": [
       "     PassengerId  Survived  Pclass  Sex   Age  SibSp  Parch      Fare  \\\n",
       "438          439         0       1    1  64.0      1      4  263.0000   \n",
       "341          342         1       1    0  24.0      3      2  263.0000   \n",
       "737          738         1       1    1  35.0      0      0  512.3292   \n",
       "258          259         1       1    0  35.0      0      0  512.3292   \n",
       "679          680         1       1    1  36.0      0      1  512.3292   \n",
       "\n",
       "     Embarked  \n",
       "438         2  \n",
       "341         2  \n",
       "737         0  \n",
       "258         0  \n",
       "679         0  "
      ]
     },
     "execution_count": 15,
     "metadata": {},
     "output_type": "execute_result"
    }
   ],
   "source": [
    "sorted_df = df.sort_values(by='Fare')\n",
    "sorted_df.tail()"
   ]
  },
  {
   "cell_type": "code",
   "execution_count": 16,
   "metadata": {},
   "outputs": [],
   "source": [
    "# RandomForestRegressor pour remplir les données manquantes de df['Age']"
   ]
  },
  {
   "cell_type": "code",
   "execution_count": 17,
   "metadata": {},
   "outputs": [],
   "source": [
    "from sklearn.ensemble import RandomForestRegressor\n",
    "\n",
    "# Split the data into two sets: one with missing values and one without\n",
    "age_missing = df[df['Age'].isna()]\n",
    "age_not_missing = df[df['Age'].notna()]\n",
    "\n",
    "# Create the model and fit it to the data without missing values\n",
    "model = RandomForestRegressor()\n",
    "model.fit(age_not_missing.drop('Age', axis=1), age_not_missing['Age'])\n",
    "\n",
    "# Use the model to predict the missing values\n",
    "df.loc[df['Age'].isna(), 'Age'] = model.predict(age_missing.drop('Age', axis=1))\n"
   ]
  },
  {
   "cell_type": "code",
   "execution_count": 18,
   "metadata": {},
   "outputs": [],
   "source": [
    "# On fait pareil avec X_test\n",
    "\n",
    "# Split the data into two sets: one with missing values and one without\n",
    "age_missing = X_test[X_test['Age'].isna()]\n",
    "age_not_missing = X_test[X_test['Age'].notna()]\n",
    "\n",
    "# Create the model and fit it to the data without missing values\n",
    "model = RandomForestRegressor()\n",
    "model.fit(age_not_missing.drop('Age', axis=1), age_not_missing['Age'])\n",
    "\n",
    "# Use the model to predict the missing values\n",
    "X_test.loc[X_test['Age'].isna(), 'Age'] = model.predict(age_missing.drop('Age', axis=1))"
   ]
  },
  {
   "cell_type": "code",
   "execution_count": 19,
   "metadata": {},
   "outputs": [
    {
     "name": "stdout",
     "output_type": "stream",
     "text": [
      "#            dtype        isna       % isna\n",
      "-------------------------------------------------\n",
      "PassengerId  int64        0          0.000000%\n",
      "Survived     int64        0          0.000000%\n",
      "Pclass       int64        0          0.000000%\n",
      "Sex          int64        0          0.000000%\n",
      "Age          float64      0          0.000000%\n",
      "SibSp        int64        0          0.000000%\n",
      "Parch        int64        0          0.000000%\n",
      "Fare         float64      0          0.000000%\n",
      "Embarked     int64        0          0.000000%\n"
     ]
    }
   ],
   "source": [
    "pretty_isna(df)"
   ]
  },
  {
   "cell_type": "code",
   "execution_count": 20,
   "metadata": {},
   "outputs": [],
   "source": [
    "from sklearn.tree import DecisionTreeClassifier\n",
    "from sklearn.ensemble import RandomForestClassifier, GradientBoostingClassifier, AdaBoostClassifier\n",
    "from sklearn.svm import SVC\n",
    "from sklearn.neighbors import KNeighborsClassifier\n",
    "from sklearn.model_selection import KFold, GridSearchCV\n",
    "from sklearn.metrics import precision_score, accuracy_score, f1_score\n",
    "from xgboost import XGBClassifier\n",
    "\n",
    "X = df.drop('Survived', axis=1)\n",
    "y = df['Survived']"
   ]
  },
  {
   "cell_type": "code",
   "execution_count": 21,
   "metadata": {},
   "outputs": [
    {
     "name": "stdout",
     "output_type": "stream",
     "text": [
      "Dummy classifier (most_frequent  ) accuracy: 0.616\n",
      "Dummy classifier (stratified     ) accuracy: 0.561\n",
      "Dummy classifier (uniform        ) accuracy: 0.508\n"
     ]
    }
   ],
   "source": [
    "from sklearn.dummy import DummyClassifier\n",
    "\n",
    "strategies = ['most_frequent', 'stratified', 'uniform']\n",
    "\n",
    "for strategy in strategies:\n",
    "    # Create a dummy classifier with the current strategy\n",
    "    dummy = DummyClassifier(strategy=strategy)\n",
    "    dummy.fit(X, y)\n",
    "    \n",
    "    # Evaluate the dummy classifier on the test data\n",
    "    y_pred = dummy.predict(X)\n",
    "    accuracy = accuracy_score(y, y_pred)\n",
    "    print(\"Dummy classifier ({:<15}) accuracy: {:.3f}\".format(strategy, accuracy))"
   ]
  },
  {
   "cell_type": "code",
   "execution_count": 22,
   "metadata": {},
   "outputs": [
    {
     "name": "stdout",
     "output_type": "stream",
     "text": [
      "Model                Training accuracy    Test accuracy        Test precision       Test F1 score       \n",
      "----------------------------------------------------------------------------------------------------\n",
      "Decision Tree        0.816                0.841                0.882                0.765               \n",
      "Best parameters: {'criterion': 'gini', 'max_depth': 4, 'min_samples_split': 2}\n",
      "----------------------------------------------------------------------------------------------------\n",
      "Random Forest        0.841                0.981                0.985                0.975               \n",
      "Best parameters: {'bootstrap': True, 'criterion': 'gini', 'max_depth': None, 'max_features': 'log2', 'min_samples_leaf': 1, 'min_samples_split': 4, 'n_estimators': 160}\n",
      "----------------------------------------------------------------------------------------------------\n",
      "SVM                  0.791                0.793                0.762                0.714               \n",
      "Best parameters: {'C': 1, 'kernel': 'linear'}\n",
      "----------------------------------------------------------------------------------------------------\n",
      "KNN                  0.658                0.744                0.813                0.565               \n",
      "Best parameters: {'algorithm': 'auto', 'leaf_size': 5, 'n_neighbors': 6, 'weights': 'uniform'}\n",
      "----------------------------------------------------------------------------------------------------\n",
      "Gradient Boosting    0.832                0.935                0.961                0.911               \n",
      "Best parameters: {'learning_rate': 0.07, 'max_depth': 4, 'min_samples_leaf': 3, 'min_samples_split': 8, 'n_estimators': 120}\n",
      "----------------------------------------------------------------------------------------------------\n",
      "AdaBoost             0.804                0.826                0.784                0.769               \n",
      "Best parameters: {'learning_rate': 0.5, 'n_estimators': 40}\n",
      "----------------------------------------------------------------------------------------------------\n",
      "XGBoost              0.832                0.925                0.948                0.897               \n",
      "Best parameters: {'learning_rate': 0.1, 'max_depth': 6, 'n_estimators': 50}\n",
      "----------------------------------------------------------------------------------------------------\n"
     ]
    }
   ],
   "source": [
    "# Define the models and hyperparameters to search\n",
    "models = {\n",
    "    'Decision Tree': {\n",
    "        'model': DecisionTreeClassifier(),\n",
    "        'params': {\n",
    "            'criterion': ['gini', 'entropy'],\n",
    "            'max_depth': [None, 2, 3, 4, 5],\n",
    "            'min_samples_split': [2, 3, 5, 7],\n",
    "        }\n",
    "    },\n",
    "    'Random Forest': {\n",
    "        'model': RandomForestClassifier(),\n",
    "        'params': {\n",
    "            'n_estimators': [150, 160],\n",
    "            'criterion': ['gini', 'entropy'],\n",
    "            'max_depth': [None, 1],\n",
    "            'min_samples_split': [3, 4],\n",
    "            'min_samples_leaf': [1, 2],\n",
    "            'max_features': ['sqrt', 'log2'],\n",
    "            'bootstrap': [True, False],\n",
    "        }\n",
    "    },\n",
    "    'SVM': {\n",
    "        'model': SVC(),\n",
    "        'params': {\n",
    "            'kernel': ['linear', 'rbf'],\n",
    "            'C': [0.1, 1],\n",
    "        }\n",
    "    },\n",
    "    'KNN': {\n",
    "        'model': KNeighborsClassifier(),\n",
    "        'params': {\n",
    "            'n_neighbors': [5, 6],\n",
    "            'weights': ['uniform', 'distance'],\n",
    "            'algorithm': ['auto', 'ball_tree'],\n",
    "            'leaf_size': [5, 7],\n",
    "        }\n",
    "    },\n",
    "    'Gradient Boosting': {\n",
    "        'model': GradientBoostingClassifier(),\n",
    "        'params': {\n",
    "            'n_estimators': [120, 125],\n",
    "            'learning_rate': [0.07, 0.08],\n",
    "            'max_depth': [4, 5],\n",
    "            'min_samples_split': [7, 8],\n",
    "            'min_samples_leaf': [2, 3],\n",
    "        }\n",
    "    },\n",
    "    'AdaBoost': {\n",
    "        'model': AdaBoostClassifier(),\n",
    "        'params': {\n",
    "            'n_estimators': [15, 40],\n",
    "            'learning_rate': [0.5, 1],\n",
    "        }\n",
    "    },\n",
    "    'XGBoost': {\n",
    "        'model': XGBClassifier(),\n",
    "        'params': {\n",
    "            'n_estimators': [40, 50],\n",
    "            'learning_rate': [0.75, 0.1],\n",
    "            'max_depth': [6, 7],\n",
    "        }\n",
    "    }\n",
    "}\n",
    "\n",
    "# Define the cross-validation strategy\n",
    "cv = KFold(n_splits=5, shuffle=True, random_state=42)\n",
    "\n",
    "# Print the header row\n",
    "print(\"{:<20} {:<20} {:<20} {:<20} {:<20}\".format(\"Model\", \"Training accuracy\", \"Test accuracy\", \"Test precision\", \"Test F1 score\"))\n",
    "print(\"-\" * 100)\n",
    "# Perform grid search for each model\n",
    "for name, model in models.items():\n",
    "    clf = GridSearchCV(model['model'], model['params'], cv=cv, scoring='accuracy')\n",
    "    clf.fit(X, y)\n",
    "    y_pred = clf.predict(X)\n",
    "    print(\"{:<20} {:<20.3f} {:<20.3f} {:<20.3f} {:<20.3f}\".format(name, clf.best_score_, accuracy_score(y, y_pred), precision_score(y, y_pred), f1_score(y, y_pred)))\n",
    "    print(\"Best parameters: {}\".format(clf.best_params_))\n",
    "    print(\"-\" * 100)\n",
    "\n",
    "# 15m 5.4s"
   ]
  },
  {
   "cell_type": "code",
   "execution_count": 23,
   "metadata": {},
   "outputs": [],
   "source": [
    "# Model                Training accuracy    Test accuracy        Test precision       Test F1 score       \n",
    "# ----------------------------------------------------------------------------------------------------\n",
    "# Random Forest        0.841                0.981                0.985                0.975               \n",
    "# Best parameters: {'bootstrap': True, 'criterion': 'gini', 'max_depth': None, 'max_features': 'log2', 'min_samples_leaf': 1, 'min_samples_split': 4, 'n_estimators': 160}\n",
    "# ----------------------------------------------------------------------------------------------------"
   ]
  },
  {
   "cell_type": "code",
   "execution_count": 25,
   "metadata": {},
   "outputs": [
    {
     "data": {
      "text/html": [
       "<div>\n",
       "<style scoped>\n",
       "    .dataframe tbody tr th:only-of-type {\n",
       "        vertical-align: middle;\n",
       "    }\n",
       "\n",
       "    .dataframe tbody tr th {\n",
       "        vertical-align: top;\n",
       "    }\n",
       "\n",
       "    .dataframe thead th {\n",
       "        text-align: right;\n",
       "    }\n",
       "</style>\n",
       "<table border=\"1\" class=\"dataframe\">\n",
       "  <thead>\n",
       "    <tr style=\"text-align: right;\">\n",
       "      <th></th>\n",
       "      <th>PassengerId</th>\n",
       "      <th>Survived</th>\n",
       "    </tr>\n",
       "  </thead>\n",
       "  <tbody>\n",
       "    <tr>\n",
       "      <th>0</th>\n",
       "      <td>892</td>\n",
       "      <td>0</td>\n",
       "    </tr>\n",
       "    <tr>\n",
       "      <th>1</th>\n",
       "      <td>893</td>\n",
       "      <td>0</td>\n",
       "    </tr>\n",
       "    <tr>\n",
       "      <th>2</th>\n",
       "      <td>894</td>\n",
       "      <td>0</td>\n",
       "    </tr>\n",
       "    <tr>\n",
       "      <th>3</th>\n",
       "      <td>895</td>\n",
       "      <td>0</td>\n",
       "    </tr>\n",
       "    <tr>\n",
       "      <th>4</th>\n",
       "      <td>896</td>\n",
       "      <td>0</td>\n",
       "    </tr>\n",
       "    <tr>\n",
       "      <th>...</th>\n",
       "      <td>...</td>\n",
       "      <td>...</td>\n",
       "    </tr>\n",
       "    <tr>\n",
       "      <th>413</th>\n",
       "      <td>1305</td>\n",
       "      <td>0</td>\n",
       "    </tr>\n",
       "    <tr>\n",
       "      <th>414</th>\n",
       "      <td>1306</td>\n",
       "      <td>1</td>\n",
       "    </tr>\n",
       "    <tr>\n",
       "      <th>415</th>\n",
       "      <td>1307</td>\n",
       "      <td>0</td>\n",
       "    </tr>\n",
       "    <tr>\n",
       "      <th>416</th>\n",
       "      <td>1308</td>\n",
       "      <td>0</td>\n",
       "    </tr>\n",
       "    <tr>\n",
       "      <th>417</th>\n",
       "      <td>1309</td>\n",
       "      <td>1</td>\n",
       "    </tr>\n",
       "  </tbody>\n",
       "</table>\n",
       "<p>418 rows × 2 columns</p>\n",
       "</div>"
      ],
      "text/plain": [
       "     PassengerId  Survived\n",
       "0            892         0\n",
       "1            893         0\n",
       "2            894         0\n",
       "3            895         0\n",
       "4            896         0\n",
       "..           ...       ...\n",
       "413         1305         0\n",
       "414         1306         1\n",
       "415         1307         0\n",
       "416         1308         0\n",
       "417         1309         1\n",
       "\n",
       "[418 rows x 2 columns]"
      ]
     },
     "execution_count": 25,
     "metadata": {},
     "output_type": "execute_result"
    }
   ],
   "source": [
    "RFC_MODEL = RandomForestClassifier(bootstrap=True, criterion='gini', max_depth=None, max_features='log2', min_samples_leaf=1, min_samples_split=4, n_estimators=160) \n",
    "\n",
    "# Train the model on X and y\n",
    "RFC_MODEL.fit(X, y)\n",
    "\n",
    "# Make predictions on X_test\n",
    "y_pred = RFC_MODEL.predict(X_test)\n",
    "\n",
    "# Create a DataFrame with the 'PassengerId' of X_test and 'Survived' as the predicted values\n",
    "df_rfc_prediction = pd.DataFrame({'PassengerId': X_test['PassengerId'], 'Survived': y_pred})\n",
    "\n",
    "# Save the DataFrame to a CSV file\n",
    "df_rfc_prediction.to_csv('rfc_prediction.csv', index=False)\n",
    "\n",
    "# Print the predicted values\n",
    "df_rfc_prediction"
   ]
  },
  {
   "cell_type": "code",
   "execution_count": null,
   "metadata": {},
   "outputs": [],
   "source": [
    "# Score Kaggle  -->  0.77272"
   ]
  }
 ],
 "metadata": {
  "kernelspec": {
   "display_name": ".venv",
   "language": "python",
   "name": "python3"
  },
  "language_info": {
   "codemirror_mode": {
    "name": "ipython",
    "version": 3
   },
   "file_extension": ".py",
   "mimetype": "text/x-python",
   "name": "python",
   "nbconvert_exporter": "python",
   "pygments_lexer": "ipython3",
   "version": "3.10.12"
  },
  "orig_nbformat": 4
 },
 "nbformat": 4,
 "nbformat_minor": 2
}
